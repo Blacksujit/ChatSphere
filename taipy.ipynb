{
 "cells": [
  {
   "cell_type": "code",
   "execution_count": null,
   "metadata": {},
   "outputs": [],
   "source": [
    " "
   ]
  },
  {
   "cell_type": "code",
   "execution_count": 1,
   "metadata": {},
   "outputs": [],
   "source": [
    "import os\n",
    "import sys\n",
    "import time\n",
    "from taipy.gui import Gui, State, notify\n",
    "from transformers import GPT2LMHeadModel, GPT2Tokenizer\n",
    "import torch"
   ]
  },
  {
   "cell_type": "code",
   "execution_count": 2,
   "metadata": {},
   "outputs": [],
   "source": [
    "# Use a pipeline as a high-level helper\n",
    "from transformers import pipeline\n",
    "\n",
    "pipe = pipeline(\"text-generation\", model=\"openai-community/gpt2\")\n",
    "\n"
   ]
  },
  {
   "cell_type": "code",
   "execution_count": 3,
   "metadata": {},
   "outputs": [],
   "source": [
    "# Set up conversation context\n",
    "conversation = {\n",
    "    \"Conversation\": [\"Who are you?\", \"Hi! I am GPT-2. How can I help you today?\"]\n",
    "}\n",
    "current_user_message = \"\"\n",
    "past_conversations = []\n",
    "selected_conv = None\n",
    "selected_row = [1]\n"
   ]
  },
  {
   "cell_type": "code",
   "execution_count": 4,
   "metadata": {},
   "outputs": [],
   "source": [
    "def on_init(state: State) -> None:\n",
    "    state.context = \"The following is a conversation with an AI assistant. The assistant is helpful, creative, clever, and very friendly.\\n\\nHuman: Hello, who are you?\\nAI: I am an AI created by OpenAI. How can I help you today?\"\n",
    "    state.conversation = {\n",
    "        \"Conversation\": [\"Who are you?\", \"Hi! I am GPT-2. How can I help you today?\"]\n",
    "    }\n",
    "    state.current_user_message = \"\"\n",
    "    state.past_conversations = []\n",
    "    state.selected_conv = None\n",
    "    state.selected_row = [1]\n"
   ]
  },
  {
   "cell_type": "code",
   "execution_count": 8,
   "metadata": {},
   "outputs": [],
   "source": [
    "def on_init(state: State) -> None:\n",
    "    # Check if 'context' is already defined; if not, define it in state\n",
    "    if not hasattr(state, 'context'):\n",
    "        state.context = \"The following is a conversation with an AI assistant. The assistant is helpful, creative, clever, and very friendly.\\n\\nHuman: Hello, who are you?\\nAI: I am an AI created by OpenAI. How can I help you today?\"\n",
    "\n",
    "    # Initialize other variables if needed\n",
    "    if not hasattr(state, 'conversation'):\n",
    "        state.conversation = {\n",
    "            \"Conversation\": [\"Who are you?\", \"Hi! I am GPT-2. How can I help you today?\"]\n",
    "        }\n",
    "    \n",
    "    if not hasattr(state, 'current_user_message'):\n",
    "        state.current_user_message = \"\"\n",
    "\n",
    "    if not hasattr(state, 'past_conversations'):\n",
    "        state.past_conversations = []\n",
    "\n",
    "    if not hasattr(state, 'selected_conv'):\n",
    "        state.selected_conv = None\n",
    "\n",
    "    if not hasattr(state, 'selected_row'):\n",
    "        state.selected_row = [1]\n"
   ]
  },
  {
   "cell_type": "code",
   "execution_count": 9,
   "metadata": {},
   "outputs": [],
   "source": [
    "def generate_response(state: State, prompt: str) -> str:\n",
    "    try:\n",
    "        inputs = pipe.encode(prompt, return_tensors=\"pt\")\n",
    "        outputs = pipe.generate(inputs, max_length=150, do_sample=True, top_p=0.95, top_k=60)\n",
    "        response = pipe.decode(outputs[0], skip_special_tokens=True)\n",
    "        return response.split(prompt)[-1].strip()\n",
    "    except Exception as e:\n",
    "        notify(state, \"error\", f\"Error generating response: {str(e)}\")\n",
    "        return \"Error: Unable to generate response.\""
   ]
  },
  {
   "cell_type": "code",
   "execution_count": 10,
   "metadata": {},
   "outputs": [],
   "source": [
    "def update_context(state: State) -> str:\n",
    "    state.context += f\"\\nHuman: {state.current_user_message}\\nAI:\"\n",
    "    answer = generate_response(state, state.context).replace(\"\\n\", \"\")\n",
    "    state.context += answer\n",
    "    state.selected_row = [len(state.conversation[\"Conversation\"]) + 1]\n",
    "    return answer"
   ]
  },
  {
   "cell_type": "code",
   "execution_count": 11,
   "metadata": {},
   "outputs": [],
   "source": [
    "def send_message(state: State) -> None:\n",
    "    notify(state, \"info\", f\"Sending message: {state.current_user_message}\")  # Debugging output\n",
    "    try:\n",
    "        answer = update_context(state)\n",
    "        conv = state.conversation.copy()\n",
    "        conv[\"Conversation\"].extend([state.current_user_message, answer])\n",
    "        state.current_user_message = \"\"  # Clear the message after sending\n",
    "        state.conversation = conv\n",
    "        notify(state, \"success\", \"Response received!\")\n",
    "    except Exception as ex:\n",
    "        on_exception(state, \"send_message\", ex)  # Call the exception handler\n"
   ]
  },
  {
   "cell_type": "code",
   "execution_count": 12,
   "metadata": {},
   "outputs": [],
   "source": [
    "def style_conv(state: State, idx: int, row: int) -> str:\n",
    "    if idx is None:\n",
    "        return None\n",
    "    elif idx % 2 == 0:\n",
    "        return \"user_message\"\n",
    "    else:\n",
    "        return \"gpt_message\""
   ]
  },
  {
   "cell_type": "code",
   "execution_count": 13,
   "metadata": {},
   "outputs": [],
   "source": [
    "def on_exception(state, function_name: str, ex: Exception) -> None:\n",
    "    notify(state, \"error\", f\"An error occurred in {function_name}: {ex}\")"
   ]
  },
  {
   "cell_type": "code",
   "execution_count": 14,
   "metadata": {},
   "outputs": [],
   "source": [
    "def reset_chat(state: State) -> None:\n",
    "    state.past_conversations = state.past_conversations + [\n",
    "        [len(state.past_conversations), state.conversation]\n",
    "    ]\n",
    "    state.conversation = {\n",
    "        \"Conversation\": [\"Who are you?\", \"Hi! I am GPT-2. How can I help you today?\"]\n",
    "    }"
   ]
  },
  {
   "cell_type": "code",
   "execution_count": 15,
   "metadata": {},
   "outputs": [],
   "source": [
    "def tree_adapter(item: list) -> [str, str]:\n",
    "    identifier = str(item[0])  # Convert identifier to a string\n",
    "    if len(item[1][\"Conversation\"]) > 3:\n",
    "        return (identifier, item[1][\"Conversation\"][2][:50] + \"...\")\n",
    "    return (identifier, \"Empty conversation\")"
   ]
  },
  {
   "cell_type": "code",
   "execution_count": 16,
   "metadata": {},
   "outputs": [],
   "source": [
    "def select_conv(state: State, var_name: str, value) -> None:\n",
    "    state.conversation = state.past_conversations[value[0][0]][1]\n",
    "    state.context = \"The following is a conversation with an AI assistant. The assistant is helpful, creative, clever, and very friendly.\\n\\nHuman: Hello, who are you?\\nAI: I am an AI created by OpenAI. How can I help you today?\"\n",
    "    for i in range(2, len(state.conversation[\"Conversation\"]), 2):\n",
    "        state.context += f\"Human: \\n {state.conversation['Conversation'][i]}\\n\\n AI:\"\n",
    "        state.context += state.conversation[\"Conversation\"][i + 1]\n",
    "    state.selected_row = [len(state.conversation[\"Conversation\"]) + 1]\n"
   ]
  },
  {
   "cell_type": "code",
   "execution_count": 17,
   "metadata": {},
   "outputs": [],
   "source": [
    "past_prompts = []\n",
    "\n",
    "page = \"\"\"\n",
    "<|layout|columns=300px 1|\n",
    "<|part|class_name=sidebar| \n",
    "# Taipy **Chat**{: .color-primary} # {: .logo-text}\n",
    "<|New Conversation|button|class_name=fullwidth plain|id=reset_app_button|on_action=reset_chat|>\n",
    "### Previous activities ### {: .h5 .mt2 .mb-half}\n",
    "<|{selected_conv}|tree|lov={past_conversations}|class_name=past_prompts_list|multiple|adapter=tree_adapter|on_change=select_conv|>\n",
    "|>\n",
    "\n",
    "<|part|class_name=p2 align-item-bottom table| \n",
    "<|{conversation}|table|style=style_conv|show_all|selected={selected_row}|rebuild|>\n",
    "<|part|class_name=card mt1| \n",
    "<|{current_user_message}|input|label=Write your message here...|on_action=send_message|class_name=fullwidth|change_delay=-1|>\n",
    "|>\n",
    "|>\n",
    "|>\n",
    "\"\"\""
   ]
  },
  {
   "cell_type": "code",
   "execution_count": 19,
   "metadata": {},
   "outputs": [
    {
     "name": "stdout",
     "output_type": "stream",
     "text": [
      "[2024-10-21 00:24:14][Taipy][INFO] Running in 'single_client' mode in notebook environment\n",
      "[2024-10-21 00:24:14][Taipy][INFO] 'async_mode' parameter has been overridden to 'threading'. Using Flask built-in development server with debug mode\n"
     ]
    },
    {
     "ename": "ConnectionError",
     "evalue": "Port 5000 is already opened on 127.0.0.1. You have another server application running on the same port.",
     "output_type": "error",
     "traceback": [
      "\u001b[1;31m---------------------------------------------------------------------------\u001b[0m",
      "\u001b[1;31mConnectionError\u001b[0m                           Traceback (most recent call last)",
      "Cell \u001b[1;32mIn[19], line 2\u001b[0m\n\u001b[0;32m      1\u001b[0m \u001b[38;5;28;01mif\u001b[39;00m \u001b[38;5;18m__name__\u001b[39m \u001b[38;5;241m==\u001b[39m \u001b[38;5;124m\"\u001b[39m\u001b[38;5;124m__main__\u001b[39m\u001b[38;5;124m\"\u001b[39m:\n\u001b[1;32m----> 2\u001b[0m     \u001b[43mGui\u001b[49m\u001b[43m(\u001b[49m\u001b[43mpage\u001b[49m\u001b[43m)\u001b[49m\u001b[38;5;241;43m.\u001b[39;49m\u001b[43mrun\u001b[49m\u001b[43m(\u001b[49m\n\u001b[0;32m      3\u001b[0m \u001b[43m        \u001b[49m\u001b[43mdebug\u001b[49m\u001b[38;5;241;43m=\u001b[39;49m\u001b[38;5;28;43;01mTrue\u001b[39;49;00m\u001b[43m,\u001b[49m\u001b[43m \u001b[49m\n\u001b[0;32m      4\u001b[0m \u001b[43m        \u001b[49m\u001b[43mdark_mode\u001b[49m\u001b[38;5;241;43m=\u001b[39;49m\u001b[38;5;28;43;01mTrue\u001b[39;49;00m\u001b[43m,\u001b[49m\u001b[43m \u001b[49m\n\u001b[0;32m      5\u001b[0m \u001b[43m        \u001b[49m\u001b[43mtitle\u001b[49m\u001b[38;5;241;43m=\u001b[39;49m\u001b[38;5;124;43m\"\u001b[39;49m\u001b[38;5;124;43m💬 Taipy Chat\u001b[39;49m\u001b[38;5;124;43m\"\u001b[39;49m\u001b[43m,\u001b[49m\u001b[43m \u001b[49m\n\u001b[0;32m      6\u001b[0m \u001b[43m        \u001b[49m\u001b[43mport\u001b[49m\u001b[38;5;241;43m=\u001b[39;49m\u001b[38;5;241;43m900\u001b[39;49m\u001b[43m,\u001b[49m\u001b[43m  \u001b[49m\u001b[38;5;66;43;03m# Let Taipy choose an available port\u001b[39;49;00m\n\u001b[0;32m      7\u001b[0m \u001b[43m        \u001b[49m\u001b[43mallow_unsafe_werkzeug\u001b[49m\u001b[38;5;241;43m=\u001b[39;49m\u001b[38;5;28;43;01mTrue\u001b[39;49;00m\n\u001b[0;32m      8\u001b[0m \u001b[43m    \u001b[49m\u001b[43m)\u001b[49m\n",
      "File \u001b[1;32mc:\\Users\\HP\\AppData\\Local\\Programs\\Python\\Python311\\Lib\\site-packages\\taipy\\gui\\gui.py:2530\u001b[0m, in \u001b[0;36mGui.run\u001b[1;34m(self, run_server, run_in_thread, async_mode, **kwargs)\u001b[0m\n\u001b[0;32m   2527\u001b[0m \u001b[38;5;28;01mif\u001b[39;00m \u001b[38;5;129;01mnot\u001b[39;00m run_server:\n\u001b[0;32m   2528\u001b[0m     \u001b[38;5;28;01mreturn\u001b[39;00m \u001b[38;5;28mself\u001b[39m\u001b[38;5;241m.\u001b[39mget_flask_app()\n\u001b[1;32m-> 2530\u001b[0m \u001b[38;5;28;01mreturn\u001b[39;00m \u001b[38;5;28;43mself\u001b[39;49m\u001b[38;5;241;43m.\u001b[39;49m\u001b[43m_server\u001b[49m\u001b[38;5;241;43m.\u001b[39;49m\u001b[43mrun\u001b[49m\u001b[43m(\u001b[49m\n\u001b[0;32m   2531\u001b[0m \u001b[43m    \u001b[49m\u001b[43mhost\u001b[49m\u001b[38;5;241;43m=\u001b[39;49m\u001b[43mapp_config\u001b[49m\u001b[43m[\u001b[49m\u001b[38;5;124;43m\"\u001b[39;49m\u001b[38;5;124;43mhost\u001b[39;49m\u001b[38;5;124;43m\"\u001b[39;49m\u001b[43m]\u001b[49m\u001b[43m,\u001b[49m\n\u001b[0;32m   2532\u001b[0m \u001b[43m    \u001b[49m\u001b[43mport\u001b[49m\u001b[38;5;241;43m=\u001b[39;49m\u001b[43mapp_config\u001b[49m\u001b[43m[\u001b[49m\u001b[38;5;124;43m\"\u001b[39;49m\u001b[38;5;124;43mport\u001b[39;49m\u001b[38;5;124;43m\"\u001b[39;49m\u001b[43m]\u001b[49m\u001b[43m,\u001b[49m\n\u001b[0;32m   2533\u001b[0m \u001b[43m    \u001b[49m\u001b[43mdebug\u001b[49m\u001b[38;5;241;43m=\u001b[39;49m\u001b[43mapp_config\u001b[49m\u001b[43m[\u001b[49m\u001b[38;5;124;43m\"\u001b[39;49m\u001b[38;5;124;43mdebug\u001b[39;49m\u001b[38;5;124;43m\"\u001b[39;49m\u001b[43m]\u001b[49m\u001b[43m,\u001b[49m\n\u001b[0;32m   2534\u001b[0m \u001b[43m    \u001b[49m\u001b[43muse_reloader\u001b[49m\u001b[38;5;241;43m=\u001b[39;49m\u001b[43mapp_config\u001b[49m\u001b[43m[\u001b[49m\u001b[38;5;124;43m\"\u001b[39;49m\u001b[38;5;124;43muse_reloader\u001b[39;49m\u001b[38;5;124;43m\"\u001b[39;49m\u001b[43m]\u001b[49m\u001b[43m,\u001b[49m\n\u001b[0;32m   2535\u001b[0m \u001b[43m    \u001b[49m\u001b[43mflask_log\u001b[49m\u001b[38;5;241;43m=\u001b[39;49m\u001b[43mapp_config\u001b[49m\u001b[43m[\u001b[49m\u001b[38;5;124;43m\"\u001b[39;49m\u001b[38;5;124;43mflask_log\u001b[39;49m\u001b[38;5;124;43m\"\u001b[39;49m\u001b[43m]\u001b[49m\u001b[43m,\u001b[49m\n\u001b[0;32m   2536\u001b[0m \u001b[43m    \u001b[49m\u001b[43mrun_in_thread\u001b[49m\u001b[38;5;241;43m=\u001b[39;49m\u001b[43mapp_config\u001b[49m\u001b[43m[\u001b[49m\u001b[38;5;124;43m\"\u001b[39;49m\u001b[38;5;124;43mrun_in_thread\u001b[39;49m\u001b[38;5;124;43m\"\u001b[39;49m\u001b[43m]\u001b[49m\u001b[43m,\u001b[49m\n\u001b[0;32m   2537\u001b[0m \u001b[43m    \u001b[49m\u001b[43mallow_unsafe_werkzeug\u001b[49m\u001b[38;5;241;43m=\u001b[39;49m\u001b[43mapp_config\u001b[49m\u001b[43m[\u001b[49m\u001b[38;5;124;43m\"\u001b[39;49m\u001b[38;5;124;43mallow_unsafe_werkzeug\u001b[39;49m\u001b[38;5;124;43m\"\u001b[39;49m\u001b[43m]\u001b[49m\u001b[43m,\u001b[49m\n\u001b[0;32m   2538\u001b[0m \u001b[43m    \u001b[49m\u001b[43mnotebook_proxy\u001b[49m\u001b[38;5;241;43m=\u001b[39;49m\u001b[43mapp_config\u001b[49m\u001b[43m[\u001b[49m\u001b[38;5;124;43m\"\u001b[39;49m\u001b[38;5;124;43mnotebook_proxy\u001b[39;49m\u001b[38;5;124;43m\"\u001b[39;49m\u001b[43m]\u001b[49m\u001b[43m,\u001b[49m\n\u001b[0;32m   2539\u001b[0m \u001b[43m\u001b[49m\u001b[43m)\u001b[49m\n",
      "File \u001b[1;32mc:\\Users\\HP\\AppData\\Local\\Programs\\Python\\Python311\\Lib\\site-packages\\taipy\\gui\\server.py:284\u001b[0m, in \u001b[0;36m_Server.run\u001b[1;34m(self, host, port, debug, use_reloader, flask_log, run_in_thread, allow_unsafe_werkzeug, notebook_proxy)\u001b[0m\n\u001b[0;32m    282\u001b[0m     \u001b[38;5;66;03m# Start proxy if not already started\u001b[39;00m\n\u001b[0;32m    283\u001b[0m     \u001b[38;5;28mself\u001b[39m\u001b[38;5;241m.\u001b[39m_proxy \u001b[38;5;241m=\u001b[39m NotebookProxy(gui\u001b[38;5;241m=\u001b[39m\u001b[38;5;28mself\u001b[39m\u001b[38;5;241m.\u001b[39m_gui, listening_port\u001b[38;5;241m=\u001b[39mport)\n\u001b[1;32m--> 284\u001b[0m     \u001b[38;5;28;43mself\u001b[39;49m\u001b[38;5;241;43m.\u001b[39;49m\u001b[43m_proxy\u001b[49m\u001b[38;5;241;43m.\u001b[39;49m\u001b[43mrun\u001b[49m\u001b[43m(\u001b[49m\u001b[43m)\u001b[49m\n\u001b[0;32m    285\u001b[0m     \u001b[38;5;28mself\u001b[39m\u001b[38;5;241m.\u001b[39m_port \u001b[38;5;241m=\u001b[39m \u001b[38;5;28mself\u001b[39m\u001b[38;5;241m.\u001b[39m_get_random_port()\n\u001b[0;32m    286\u001b[0m \u001b[38;5;28;01mif\u001b[39;00m _is_in_notebook() \u001b[38;5;129;01mor\u001b[39;00m run_in_thread:\n",
      "File \u001b[1;32mc:\\Users\\HP\\AppData\\Local\\Programs\\Python\\Python311\\Lib\\site-packages\\taipy\\gui\\utils\\proxy.py:103\u001b[0m, in \u001b[0;36mNotebookProxy.run\u001b[1;34m(self)\u001b[0m\n\u001b[0;32m    101\u001b[0m port \u001b[38;5;241m=\u001b[39m \u001b[38;5;28mself\u001b[39m\u001b[38;5;241m.\u001b[39m_listening_port\n\u001b[0;32m    102\u001b[0m \u001b[38;5;28;01mif\u001b[39;00m _is_port_open(host, port):\n\u001b[1;32m--> 103\u001b[0m     \u001b[38;5;28;01mraise\u001b[39;00m \u001b[38;5;167;01mConnectionError\u001b[39;00m(\n\u001b[0;32m    104\u001b[0m         \u001b[38;5;124mf\u001b[39m\u001b[38;5;124m\"\u001b[39m\u001b[38;5;124mPort \u001b[39m\u001b[38;5;132;01m{\u001b[39;00mport\u001b[38;5;132;01m}\u001b[39;00m\u001b[38;5;124m is already opened on \u001b[39m\u001b[38;5;132;01m{\u001b[39;00mhost\u001b[38;5;132;01m}\u001b[39;00m\u001b[38;5;124m. You have another server application running on the same port.\u001b[39m\u001b[38;5;124m\"\u001b[39m  \u001b[38;5;66;03m# noqa: E501\u001b[39;00m\n\u001b[0;32m    105\u001b[0m     )\n\u001b[0;32m    106\u001b[0m site \u001b[38;5;241m=\u001b[39m Site(_TaipyReverseProxyResource(host, \u001b[38;5;124mb\u001b[39m\u001b[38;5;124m\"\u001b[39m\u001b[38;5;124m\"\u001b[39m, \u001b[38;5;28mself\u001b[39m\u001b[38;5;241m.\u001b[39m_gui))\n\u001b[0;32m    107\u001b[0m reactor\u001b[38;5;241m.\u001b[39mlistenTCP(port, site)\n",
      "\u001b[1;31mConnectionError\u001b[0m: Port 5000 is already opened on 127.0.0.1. You have another server application running on the same port."
     ]
    }
   ],
   "source": [
    "if __name__ == \"__main__\":\n",
    "    Gui(page).run(\n",
    "        debug=True, \n",
    "        dark_mode=True, \n",
    "        title=\"💬 Taipy Chat\", \n",
    "        port=900,  # Let Taipy choose an available port\n",
    "        allow_unsafe_werkzeug=True\n",
    "    )\n"
   ]
  },
  {
   "cell_type": "code",
   "execution_count": null,
   "metadata": {},
   "outputs": [],
   "source": []
  }
 ],
 "metadata": {
  "kernelspec": {
   "display_name": "Python 3",
   "language": "python",
   "name": "python3"
  },
  "language_info": {
   "codemirror_mode": {
    "name": "ipython",
    "version": 3
   },
   "file_extension": ".py",
   "mimetype": "text/x-python",
   "name": "python",
   "nbconvert_exporter": "python",
   "pygments_lexer": "ipython3",
   "version": "3.11.3"
  }
 },
 "nbformat": 4,
 "nbformat_minor": 2
}
